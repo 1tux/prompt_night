{
 "cells": [
  {
   "cell_type": "markdown",
   "id": "843ba57d-8061-4596-a5cb-0639d34e200b",
   "metadata": {
    "tags": []
   },
   "source": [
    "## promptmanteau\n",
    "port·man·teau is a word blending the sounds and combining the meanings of two others, for example motel (from ‘motor’ and ‘hotel’) or brunch (from ‘breakfast’ and ‘lunch’)."
   ]
  },
  {
   "cell_type": "markdown",
   "id": "6a97b17a-c94a-4b47-b926-a533b6454eb5",
   "metadata": {
    "tags": []
   },
   "source": [
    "Mechanistic Intepretability project <br>\n",
    "for [Apart Research #4 Hackathon](https://itch.io/jam/mechint) by [Mentaleap](https://mentaleap.ai/)\n"
   ]
  },
  {
   "cell_type": "markdown",
   "id": "cd759a61-4641-476a-8553-b4629c5580e1",
   "metadata": {
    "jp-MarkdownHeadingCollapsed": true,
    "tags": []
   },
   "source": [
    "## Installation"
   ]
  },
  {
   "cell_type": "code",
   "execution_count": 1,
   "id": "45ad159e-fca5-42b0-91e5-5ec0f373b297",
   "metadata": {},
   "outputs": [
    {
     "name": "stdout",
     "output_type": "stream",
     "text": [
      "\u001b[33mDEPRECATION: --no-binary currently disables reading from the cache of locally built wheels. In the future --no-binary will not influence the wheel cache. pip 23.1 will enforce this behaviour change. A possible replacement is to use the --no-cache-dir option. You can use the flag --use-feature=no-binary-enable-wheel-cache to test the upcoming behaviour. Discussion can be found at https://github.com/pypa/pip/issues/11453\u001b[0m\u001b[33m\n",
      "\u001b[0mRequirement already satisfied: numpy in ./.pyenv/versions/3/lib/python3.10/site-packages (1.23.4)\n",
      "\u001b[33mDEPRECATION: --no-binary currently disables reading from the cache of locally built wheels. In the future --no-binary will not influence the wheel cache. pip 23.1 will enforce this behaviour change. A possible replacement is to use the --no-cache-dir option. You can use the flag --use-feature=no-binary-enable-wheel-cache to test the upcoming behaviour. Discussion can be found at https://github.com/pypa/pip/issues/11453\u001b[0m\u001b[33m\n",
      "\u001b[0mRequirement already satisfied: matplotlib in ./.pyenv/versions/3/lib/python3.10/site-packages (3.6.2)\n",
      "Requirement already satisfied: cycler>=0.10 in ./.pyenv/versions/3/lib/python3.10/site-packages (from matplotlib) (0.11.0)\n",
      "Requirement already satisfied: python-dateutil>=2.7 in ./.pyenv/versions/3/lib/python3.10/site-packages (from matplotlib) (2.8.2)\n",
      "Requirement already satisfied: kiwisolver>=1.0.1 in ./.pyenv/versions/3/lib/python3.10/site-packages (from matplotlib) (1.4.4)\n",
      "Requirement already satisfied: pillow>=6.2.0 in ./.pyenv/versions/3/lib/python3.10/site-packages (from matplotlib) (9.3.0)\n",
      "Requirement already satisfied: pyparsing>=2.2.1 in ./.pyenv/versions/3/lib/python3.10/site-packages (from matplotlib) (3.0.9)\n",
      "Requirement already satisfied: contourpy>=1.0.1 in ./.pyenv/versions/3/lib/python3.10/site-packages (from matplotlib) (1.0.6)\n",
      "Requirement already satisfied: packaging>=20.0 in ./.pyenv/versions/3/lib/python3.10/site-packages (from matplotlib) (21.3)\n",
      "Requirement already satisfied: numpy>=1.19 in ./.pyenv/versions/3/lib/python3.10/site-packages (from matplotlib) (1.23.4)\n",
      "Requirement already satisfied: fonttools>=4.22.0 in ./.pyenv/versions/3/lib/python3.10/site-packages (from matplotlib) (4.38.0)\n",
      "Requirement already satisfied: six>=1.5 in ./.pyenv/versions/3/lib/python3.10/site-packages (from python-dateutil>=2.7->matplotlib) (1.16.0)\n",
      "\u001b[33mDEPRECATION: --no-binary currently disables reading from the cache of locally built wheels. In the future --no-binary will not influence the wheel cache. pip 23.1 will enforce this behaviour change. A possible replacement is to use the --no-cache-dir option. You can use the flag --use-feature=no-binary-enable-wheel-cache to test the upcoming behaviour. Discussion can be found at https://github.com/pypa/pip/issues/11453\u001b[0m\u001b[33m\n",
      "\u001b[0mRequirement already satisfied: torch in ./.pyenv/versions/3/lib/python3.10/site-packages (1.13.1)\n",
      "Requirement already satisfied: typing-extensions in ./.pyenv/versions/3/lib/python3.10/site-packages (from torch) (4.4.0)\n",
      "\u001b[33mDEPRECATION: --no-binary currently disables reading from the cache of locally built wheels. In the future --no-binary will not influence the wheel cache. pip 23.1 will enforce this behaviour change. A possible replacement is to use the --no-cache-dir option. You can use the flag --use-feature=no-binary-enable-wheel-cache to test the upcoming behaviour. Discussion can be found at https://github.com/pypa/pip/issues/11453\u001b[0m\u001b[33m\n",
      "\u001b[0mRequirement already satisfied: tqdm in ./.pyenv/versions/3/lib/python3.10/site-packages (4.64.1)\n",
      "\u001b[33mDEPRECATION: --no-binary currently disables reading from the cache of locally built wheels. In the future --no-binary will not influence the wheel cache. pip 23.1 will enforce this behaviour change. A possible replacement is to use the --no-cache-dir option. You can use the flag --use-feature=no-binary-enable-wheel-cache to test the upcoming behaviour. Discussion can be found at https://github.com/pypa/pip/issues/11453\u001b[0m\u001b[33m\n",
      "\u001b[0mRequirement already satisfied: datasets in ./.pyenv/versions/3/lib/python3.10/site-packages (2.8.0)\n",
      "Requirement already satisfied: fsspec[http]>=2021.11.1 in ./.pyenv/versions/3/lib/python3.10/site-packages (from datasets) (2022.11.0)\n",
      "Requirement already satisfied: tqdm>=4.62.1 in ./.pyenv/versions/3/lib/python3.10/site-packages (from datasets) (4.64.1)\n",
      "Requirement already satisfied: packaging in ./.pyenv/versions/3/lib/python3.10/site-packages (from datasets) (21.3)\n",
      "Requirement already satisfied: responses<0.19 in ./.pyenv/versions/3/lib/python3.10/site-packages (from datasets) (0.18.0)\n",
      "Requirement already satisfied: pyyaml>=5.1 in ./.pyenv/versions/3/lib/python3.10/site-packages (from datasets) (6.0)\n",
      "Requirement already satisfied: dill<0.3.7 in ./.pyenv/versions/3/lib/python3.10/site-packages (from datasets) (0.3.6)\n",
      "Requirement already satisfied: requests>=2.19.0 in ./.pyenv/versions/3/lib/python3.10/site-packages (from datasets) (2.28.1)\n",
      "Requirement already satisfied: numpy>=1.17 in ./.pyenv/versions/3/lib/python3.10/site-packages (from datasets) (1.23.4)\n",
      "Requirement already satisfied: xxhash in ./.pyenv/versions/3/lib/python3.10/site-packages (from datasets) (3.2.0)\n",
      "Requirement already satisfied: huggingface-hub<1.0.0,>=0.2.0 in ./.pyenv/versions/3/lib/python3.10/site-packages (from datasets) (0.11.1)\n",
      "Requirement already satisfied: aiohttp in ./.pyenv/versions/3/lib/python3.10/site-packages (from datasets) (3.8.3)\n",
      "Requirement already satisfied: pandas in ./.pyenv/versions/3/lib/python3.10/site-packages (from datasets) (1.5.1)\n",
      "Requirement already satisfied: multiprocess in ./.pyenv/versions/3/lib/python3.10/site-packages (from datasets) (0.70.14)\n",
      "Requirement already satisfied: pyarrow>=6.0.0 in ./.pyenv/versions/3/lib/python3.10/site-packages (from datasets) (10.0.1)\n",
      "Requirement already satisfied: async-timeout<5.0,>=4.0.0a3 in ./.pyenv/versions/3/lib/python3.10/site-packages (from aiohttp->datasets) (4.0.2)\n",
      "Requirement already satisfied: aiosignal>=1.1.2 in ./.pyenv/versions/3/lib/python3.10/site-packages (from aiohttp->datasets) (1.3.1)\n",
      "Requirement already satisfied: multidict<7.0,>=4.5 in ./.pyenv/versions/3/lib/python3.10/site-packages (from aiohttp->datasets) (6.0.2)\n",
      "Requirement already satisfied: frozenlist>=1.1.1 in ./.pyenv/versions/3/lib/python3.10/site-packages (from aiohttp->datasets) (1.3.3)\n",
      "Requirement already satisfied: yarl<2.0,>=1.0 in ./.pyenv/versions/3/lib/python3.10/site-packages (from aiohttp->datasets) (1.8.1)\n",
      "Requirement already satisfied: attrs>=17.3.0 in ./.pyenv/versions/3/lib/python3.10/site-packages (from aiohttp->datasets) (22.1.0)\n",
      "Requirement already satisfied: charset-normalizer<3.0,>=2.0 in ./.pyenv/versions/3/lib/python3.10/site-packages (from aiohttp->datasets) (2.1.1)\n",
      "Requirement already satisfied: filelock in ./.pyenv/versions/3/lib/python3.10/site-packages (from huggingface-hub<1.0.0,>=0.2.0->datasets) (3.8.0)\n",
      "Requirement already satisfied: typing-extensions>=3.7.4.3 in ./.pyenv/versions/3/lib/python3.10/site-packages (from huggingface-hub<1.0.0,>=0.2.0->datasets) (4.4.0)\n",
      "Requirement already satisfied: pyparsing!=3.0.5,>=2.0.2 in ./.pyenv/versions/3/lib/python3.10/site-packages (from packaging->datasets) (3.0.9)\n",
      "Requirement already satisfied: idna<4,>=2.5 in ./.pyenv/versions/3/lib/python3.10/site-packages (from requests>=2.19.0->datasets) (3.4)\n",
      "Requirement already satisfied: certifi>=2017.4.17 in ./.pyenv/versions/3/lib/python3.10/site-packages (from requests>=2.19.0->datasets) (2022.9.24)\n",
      "Requirement already satisfied: urllib3<1.27,>=1.21.1 in ./.pyenv/versions/3/lib/python3.10/site-packages (from requests>=2.19.0->datasets) (1.26.12)\n",
      "Requirement already satisfied: pytz>=2020.1 in ./.pyenv/versions/3/lib/python3.10/site-packages (from pandas->datasets) (2022.6)\n",
      "Requirement already satisfied: python-dateutil>=2.8.1 in ./.pyenv/versions/3/lib/python3.10/site-packages (from pandas->datasets) (2.8.2)\n",
      "Requirement already satisfied: six>=1.5 in ./.pyenv/versions/3/lib/python3.10/site-packages (from python-dateutil>=2.8.1->pandas->datasets) (1.16.0)\n",
      "\u001b[33mDEPRECATION: --no-binary currently disables reading from the cache of locally built wheels. In the future --no-binary will not influence the wheel cache. pip 23.1 will enforce this behaviour change. A possible replacement is to use the --no-cache-dir option. You can use the flag --use-feature=no-binary-enable-wheel-cache to test the upcoming behaviour. Discussion can be found at https://github.com/pypa/pip/issues/11453\u001b[0m\u001b[33m\n",
      "\u001b[0mRequirement already satisfied: transformers in ./.pyenv/versions/3/lib/python3.10/site-packages (4.24.0)\n",
      "Requirement already satisfied: numpy>=1.17 in ./.pyenv/versions/3/lib/python3.10/site-packages (from transformers) (1.23.4)\n",
      "Requirement already satisfied: regex!=2019.12.17 in ./.pyenv/versions/3/lib/python3.10/site-packages (from transformers) (2022.10.31)\n",
      "Requirement already satisfied: huggingface-hub<1.0,>=0.10.0 in ./.pyenv/versions/3/lib/python3.10/site-packages (from transformers) (0.11.1)\n",
      "Requirement already satisfied: packaging>=20.0 in ./.pyenv/versions/3/lib/python3.10/site-packages (from transformers) (21.3)\n",
      "Requirement already satisfied: filelock in ./.pyenv/versions/3/lib/python3.10/site-packages (from transformers) (3.8.0)\n",
      "Requirement already satisfied: tokenizers!=0.11.3,<0.14,>=0.11.1 in ./.pyenv/versions/3/lib/python3.10/site-packages (from transformers) (0.13.2)\n",
      "Requirement already satisfied: tqdm>=4.27 in ./.pyenv/versions/3/lib/python3.10/site-packages (from transformers) (4.64.1)\n",
      "Requirement already satisfied: requests in ./.pyenv/versions/3/lib/python3.10/site-packages (from transformers) (2.28.1)\n",
      "Requirement already satisfied: pyyaml>=5.1 in ./.pyenv/versions/3/lib/python3.10/site-packages (from transformers) (6.0)\n",
      "Requirement already satisfied: typing-extensions>=3.7.4.3 in ./.pyenv/versions/3/lib/python3.10/site-packages (from huggingface-hub<1.0,>=0.10.0->transformers) (4.4.0)\n",
      "Requirement already satisfied: pyparsing!=3.0.5,>=2.0.2 in ./.pyenv/versions/3/lib/python3.10/site-packages (from packaging>=20.0->transformers) (3.0.9)\n",
      "Requirement already satisfied: charset-normalizer<3,>=2 in ./.pyenv/versions/3/lib/python3.10/site-packages (from requests->transformers) (2.1.1)\n",
      "Requirement already satisfied: urllib3<1.27,>=1.21.1 in ./.pyenv/versions/3/lib/python3.10/site-packages (from requests->transformers) (1.26.12)\n",
      "Requirement already satisfied: idna<4,>=2.5 in ./.pyenv/versions/3/lib/python3.10/site-packages (from requests->transformers) (3.4)\n",
      "Requirement already satisfied: certifi>=2017.4.17 in ./.pyenv/versions/3/lib/python3.10/site-packages (from requests->transformers) (2022.9.24)\n"
     ]
    }
   ],
   "source": [
    "!pip install numpy\n",
    "!pip install matplotlib\n",
    "!pip install torch\n",
    "!pip install tqdm\n",
    "!pip install datasets\n",
    "!pip install transformers"
   ]
  },
  {
   "cell_type": "markdown",
   "id": "ea507aab-bcb6-4608-87b4-d84e6510045c",
   "metadata": {
    "jp-MarkdownHeadingCollapsed": true,
    "tags": []
   },
   "source": [
    "## Imports"
   ]
  },
  {
   "cell_type": "code",
   "execution_count": 2,
   "id": "99b4010a-667e-4999-a3db-1aaeed9fe6fd",
   "metadata": {},
   "outputs": [
    {
     "name": "stderr",
     "output_type": "stream",
     "text": [
      "/Users/itay/.pyenv/versions/3/lib/python3.10/site-packages/tqdm/auto.py:22: TqdmWarning: IProgress not found. Please update jupyter and ipywidgets. See https://ipywidgets.readthedocs.io/en/stable/user_install.html\n",
      "  from .autonotebook import tqdm as notebook_tqdm\n"
     ]
    }
   ],
   "source": [
    "from copy import deepcopy\n",
    "from pathlib import Path\n",
    "from dataclasses import dataclass\n",
    "import re\n",
    "import itertools\n",
    "    \n",
    "import numpy as np\n",
    "from matplotlib import pyplot as plt\n",
    "from tqdm.auto import tqdm\n",
    "\n",
    "import torch\n",
    "import torch.nn as nn\n",
    "from torch.nn import functional as F\n",
    "from torch.optim import AdamW\n",
    "from torch.optim.lr_scheduler import ExponentialLR\n",
    "\n",
    "from transformers import GPT2LMHeadModel, GPT2TokenizerFast, LogitsProcessor, LogitsProcessorList, LogitsWarper\n",
    "from datasets import load_dataset\n"
   ]
  },
  {
   "cell_type": "markdown",
   "id": "bf49d834-16de-4ad3-b5f0-7ac0d7e6fdbf",
   "metadata": {
    "jp-MarkdownHeadingCollapsed": true,
    "tags": []
   },
   "source": [
    "## Lib"
   ]
  },
  {
   "cell_type": "raw",
   "id": "7a1db6e9-a88b-4d7a-a2f1-4cea4eead609",
   "metadata": {},
   "source": [
    "General idea is to set aside some tokens (n_tokens) that will be optimized to encode 'task-embedding'\n",
    "It is done by overriding the forward() function of the Embedding phase of the model\n",
    "The new tokens named \"learned_embedding\" are concatinated before the input embedding \n",
    "We skip the first n_tokens tokens of the input and effectivly replacing them with our learned params.\n",
    "This requires the input to be padded with n_tokens tokens\n",
    "In the code we see the following line:\n",
    "    torch.full((1, n_tokens), 50256)\n",
    "It is responsible for adding n_tokens [end-of-text] tokens at the begging of the input!\n",
    "This code was taken from: https://github.com/kipgparker/soft-prompt-tuning\n",
    "and is based on Google-Research paper: 'The Power of Scale for Parameter-Efficient Prompt Tuning'\n",
    "    https://arxiv.org/abs/2104.08691"
   ]
  },
  {
   "cell_type": "code",
   "execution_count": 3,
   "id": "b8662952-8e69-4a17-b059-3549cbc5df41",
   "metadata": {},
   "outputs": [],
   "source": [
    "class SoftEmbedding(nn.Module):\n",
    "    def __init__(self, \n",
    "                wte: nn.Embedding,\n",
    "                n_tokens: int = 10, \n",
    "                random_range: float = 0.5,\n",
    "                initialize_from_vocab: bool = True):\n",
    "        super(SoftEmbedding, self).__init__()\n",
    "        self.wte = wte\n",
    "        self.n_tokens = n_tokens\n",
    "        self.learned_embedding = nn.parameter.Parameter(self.initialize_embedding(wte,\n",
    "                                                                               n_tokens, \n",
    "                                                                               random_range, \n",
    "                                                                               initialize_from_vocab))\n",
    "    def initialize_embedding(self, \n",
    "                             wte: nn.Embedding,\n",
    "                             n_tokens: int = 10, \n",
    "                             random_range: float = 0, \n",
    "                             initialize_from_vocab: bool = True):\n",
    "        \"\"\"initializes learned embedding\n",
    "\n",
    "        Args:\n",
    "            same as __init__\n",
    "\n",
    "        Returns:\n",
    "            torch.float: initialized using original schemes\n",
    "        \"\"\"\n",
    "        if initialize_from_vocab:\n",
    "            return self.wte.weight[:n_tokens].clone().detach()\n",
    "            \n",
    "        return torch.FloatTensor(n_tokens, wte.weight.size(1)).uniform_(-random_range, random_range)\n",
    "            \n",
    "    def forward(self, tokens):\n",
    "        \"\"\"run forward pass\n",
    "\n",
    "        Args:\n",
    "            tokens (torch.long): input tokens before encoding\n",
    "\n",
    "        Returns:\n",
    "            torch.float: encoding of text concatenated with learned task specifc embedding\n",
    "        \"\"\"\n",
    "        input_embedding = self.wte(tokens[:, self.n_tokens:])\n",
    "        learned_embedding = self.learned_embedding.repeat(input_embedding.size(0), 1, 1)\n",
    "        return torch.cat([learned_embedding, input_embedding], 1)"
   ]
  },
  {
   "cell_type": "raw",
   "id": "cb515bd3-6608-4767-8d11-4bc6ac6fcf2a",
   "metadata": {},
   "source": [
    "We were inspired by \"Speaking Probes\" to explore task vectors/tokens:\n",
    "\n",
    "- https://towardsdatascience.com/speaking-probes-self-interpreting-models-7a3dc6cb33d6\n",
    "- https://github.com/guyd1995/speaking-probes \n",
    "\n",
    "This library is able to add word-tokens <neuron> that will be replaced with a specific vector after the embedding phase.\n",
    "Then we use the model to generate text."
   ]
  },
  {
   "cell_type": "markdown",
   "id": "b0e6ead6-289b-4d71-8440-d9be9d866816",
   "metadata": {
    "jp-MarkdownHeadingCollapsed": true,
    "tags": []
   },
   "source": [
    "## Init Model"
   ]
  },
  {
   "cell_type": "code",
   "execution_count": 4,
   "id": "4099e8a9-888c-4713-b74c-61099fd4c447",
   "metadata": {},
   "outputs": [],
   "source": [
    "# Loading gpt2 model\n",
    "model_name = \"gpt2\"\n",
    "tokenizer = GPT2TokenizerFast.from_pretrained(model_name)\n",
    "model = GPT2LMHeadModel.from_pretrained(model_name)"
   ]
  },
  {
   "cell_type": "code",
   "execution_count": 5,
   "id": "e30c65d1-d867-44af-bae5-c2bf25b6a8e9",
   "metadata": {},
   "outputs": [],
   "source": [
    "# Freezing the model\n",
    "for p in model.parameters():\n",
    "    p.requires_grad = False"
   ]
  },
  {
   "cell_type": "code",
   "execution_count": 6,
   "id": "e1530ba3-8961-43ff-b5ef-dfbe00bfbd12",
   "metadata": {},
   "outputs": [],
   "source": [
    "# overriding model embedding layer\n",
    "n_tokens = 1\n",
    "initialize_from_vocab = False\n",
    "\n",
    "current_embedding = deepcopy(model.get_input_embeddings())\n",
    "s_wte = SoftEmbedding(current_embedding, n_tokens=n_tokens, initialize_from_vocab=initialize_from_vocab)\n",
    "\n",
    "model.set_input_embeddings(s_wte)\n",
    "params_before_training = deepcopy(s_wte.learned_embedding)"
   ]
  },
  {
   "cell_type": "code",
   "execution_count": 7,
   "id": "cd396be8-6605-4d51-8a06-b3dc3c926489",
   "metadata": {},
   "outputs": [],
   "source": [
    "def run_model(model, tokenizer, query):\n",
    "    inputs = tokenizer(query, return_tensors=\"pt\")\n",
    "    \n",
    "    end_of_text_padding = torch.full((1, n_tokens), 50256)\n",
    "    inputs['input_ids'] = torch.cat([end_of_text_padding, inputs['input_ids']],  dim=1)\n",
    "    ones = torch.full((1, n_tokens), 1)\n",
    "    inputs['attention_mask'] = torch.cat([ones, inputs['attention_mask']], dim=1)\n",
    "    \n",
    "    return model(**inputs).logits[:, -1]"
   ]
  },
  {
   "cell_type": "markdown",
   "id": "143b5a0f-f19f-4b5e-bafc-1d3f40ddba8a",
   "metadata": {
    "jp-MarkdownHeadingCollapsed": true,
    "tags": []
   },
   "source": [
    "## Task Definition / Data Loading"
   ]
  },
  {
   "cell_type": "code",
   "execution_count": 8,
   "id": "e1823f69-75f4-4462-9b83-bd78218f911e",
   "metadata": {},
   "outputs": [],
   "source": [
    "# Our dataset is comprised of the numbers 0-500.\n",
    "# Our task is +1\n",
    "# Each of these numbers is encoded with a single token (useful for task simplicity) \n",
    "# We sample 100 numbers from this range and fit the task-token to correspond for +1.\n",
    "# label_ids a dict:\n",
    "    # matches query (number in range 0-500) with answer (the number+1).\n",
    "# identity_label_ids:\n",
    "    # # matches query (number in range 0-500) with answer (the same number).\n",
    "    \n",
    "dataset = np.random.randint(500, size=(100,))\n",
    "evalset  = list(range(500))\n",
    "\n",
    "plus_two_task = {i: tokenizer.encode(str(i+2))[0] for i in range(500)}\n",
    "plus_one_task = {i: tokenizer.encode(str(i+1))[0] for i in range(500)}\n",
    "identity_task = {i: tokenizer.encode(str(i))[0] for i in range(500)}\n",
    "\n",
    "format_query = lambda x: f\"{x},\"\n",
    "\n",
    "def only_relevant_logits(logits, task_mapping):\n",
    "    '''\n",
    "        task_mapping: maps between inputs to f(inputs)\n",
    "        returns list of predictions with indices corresponding to the INPUT, and values corresponding to the OUTPUT\n",
    "        meaning that the prediction[x] = probablity(f(x))\n",
    "    '''\n",
    "    possible_outcomes = list(task_mapping.values())\n",
    "    return logits[:,possible_outcomes] # looks only on relevant answers. index for answer is actually according to the query\n",
    "\n",
    "task = identity_task"
   ]
  },
  {
   "cell_type": "markdown",
   "id": "9213f69d-82de-487e-b4b8-4f96b5ebed4a",
   "metadata": {
    "jp-MarkdownHeadingCollapsed": true,
    "tags": []
   },
   "source": [
    "## Prompt-Tuning (Task) Training"
   ]
  },
  {
   "cell_type": "code",
   "execution_count": 9,
   "id": "9b15bc17-e4b3-4490-ba65-e7352c7d4fc5",
   "metadata": {},
   "outputs": [],
   "source": [
    "optimizer = AdamW([model.transformer.wte.learned_embedding], lr=1e-3)\n",
    "scheduler = ExponentialLR(optimizer, gamma=0.9)\n",
    "n_epochs = 10\n",
    "loss_f = nn.CrossEntropyLoss()"
   ]
  },
  {
   "cell_type": "code",
   "execution_count": 10,
   "id": "d309a653-aadb-4325-b934-c67a36401124",
   "metadata": {},
   "outputs": [
    {
     "name": "stdout",
     "output_type": "stream",
     "text": [
      "huggingface/tokenizers: The current process just got forked, after parallelism has already been used. Disabling parallelism to avoid deadlocks...\n",
      "To disable this warning, you can either:\n",
      "\t- Avoid using `tokenizers` before the fork if possible\n",
      "\t- Explicitly set the environment variable TOKENIZERS_PARALLELISM=(true | false)\n"
     ]
    },
    {
     "name": "stderr",
     "output_type": "stream",
     "text": [
      "100%|████████████████████████████████████████████████████████████████████████████████████████████████████████████████████| 100/100 [00:09<00:00, 11.04it/s]\n"
     ]
    },
    {
     "name": "stdout",
     "output_type": "stream",
     "text": [
      "Epoch Loss: 548.6201276779175\n"
     ]
    },
    {
     "name": "stderr",
     "output_type": "stream",
     "text": [
      "100%|████████████████████████████████████████████████████████████████████████████████████████████████████████████████████| 100/100 [00:07<00:00, 12.83it/s]\n"
     ]
    },
    {
     "name": "stdout",
     "output_type": "stream",
     "text": [
      "Epoch Loss: 273.1594034433365\n"
     ]
    },
    {
     "name": "stderr",
     "output_type": "stream",
     "text": [
      "100%|████████████████████████████████████████████████████████████████████████████████████████████████████████████████████| 100/100 [00:07<00:00, 13.21it/s]\n"
     ]
    },
    {
     "name": "stdout",
     "output_type": "stream",
     "text": [
      "Epoch Loss: 159.80558349192142\n"
     ]
    },
    {
     "name": "stderr",
     "output_type": "stream",
     "text": [
      "100%|████████████████████████████████████████████████████████████████████████████████████████████████████████████████████| 100/100 [00:07<00:00, 13.50it/s]\n"
     ]
    },
    {
     "name": "stdout",
     "output_type": "stream",
     "text": [
      "Epoch Loss: 84.80769973248243\n"
     ]
    },
    {
     "name": "stderr",
     "output_type": "stream",
     "text": [
      "100%|████████████████████████████████████████████████████████████████████████████████████████████████████████████████████| 100/100 [00:07<00:00, 13.36it/s]\n"
     ]
    },
    {
     "name": "stdout",
     "output_type": "stream",
     "text": [
      "Epoch Loss: 49.02762904390693\n"
     ]
    },
    {
     "name": "stderr",
     "output_type": "stream",
     "text": [
      "100%|████████████████████████████████████████████████████████████████████████████████████████████████████████████████████| 100/100 [00:07<00:00, 13.46it/s]\n"
     ]
    },
    {
     "name": "stdout",
     "output_type": "stream",
     "text": [
      "Epoch Loss: 32.34241774119437\n"
     ]
    },
    {
     "name": "stderr",
     "output_type": "stream",
     "text": [
      "100%|████████████████████████████████████████████████████████████████████████████████████████████████████████████████████| 100/100 [00:07<00:00, 13.18it/s]\n"
     ]
    },
    {
     "name": "stdout",
     "output_type": "stream",
     "text": [
      "Epoch Loss: 23.49921423010528\n"
     ]
    },
    {
     "name": "stderr",
     "output_type": "stream",
     "text": [
      "100%|████████████████████████████████████████████████████████████████████████████████████████████████████████████████████| 100/100 [00:08<00:00, 12.13it/s]\n"
     ]
    },
    {
     "name": "stdout",
     "output_type": "stream",
     "text": [
      "Epoch Loss: 18.250906142406166\n"
     ]
    },
    {
     "name": "stderr",
     "output_type": "stream",
     "text": [
      "100%|████████████████████████████████████████████████████████████████████████████████████████████████████████████████████| 100/100 [00:12<00:00,  8.01it/s]\n"
     ]
    },
    {
     "name": "stdout",
     "output_type": "stream",
     "text": [
      "Epoch Loss: 14.847236903384328\n"
     ]
    },
    {
     "name": "stderr",
     "output_type": "stream",
     "text": [
      "100%|████████████████████████████████████████████████████████████████████████████████████████████████████████████████████| 100/100 [00:08<00:00, 11.81it/s]"
     ]
    },
    {
     "name": "stdout",
     "output_type": "stream",
     "text": [
      "Epoch Loss: 12.488434534985572\n"
     ]
    },
    {
     "name": "stderr",
     "output_type": "stream",
     "text": [
      "\n"
     ]
    }
   ],
   "source": [
    "# Training loop\n",
    "total_loss = []\n",
    "for epoch in range(n_epochs):\n",
    "    epoch_loss = 0\n",
    "    for query in tqdm(dataset):\n",
    "        # formatted_query, formatted_answer = format_query(query), torch.LongTensor([query])\n",
    "        formatted_query, formatted_answer = format_query(query), torch.LongTensor([task[query]])\n",
    "        \n",
    "        optimizer.zero_grad()\n",
    "        # preds = only_relevant_logits(run_model(formatted_query), task).reshape(1, -1)\n",
    "        preds = run_model(model, tokenizer, formatted_query).reshape(1, -1)\n",
    "        loss = loss_f(preds, formatted_answer)\n",
    "        \n",
    "        loss.backward()\n",
    "        optimizer.step()\n",
    "        epoch_loss += loss.item()\n",
    "        \n",
    "    scheduler.step()\n",
    "    print(\"Epoch Loss:\", epoch_loss)\n",
    "    total_loss.append(epoch_loss)"
   ]
  },
  {
   "cell_type": "markdown",
   "id": "67397d9f-97e9-48cb-a11b-15aa5761c385",
   "metadata": {
    "jp-MarkdownHeadingCollapsed": true,
    "tags": []
   },
   "source": [
    "## Prompt-Tuning Eval"
   ]
  },
  {
   "cell_type": "code",
   "execution_count": 11,
   "id": "3b7918b4-3cbd-4e7c-87b6-37c752912aae",
   "metadata": {
    "tags": []
   },
   "outputs": [
    {
     "name": "stderr",
     "output_type": "stream",
     "text": [
      "100%|████████████████████████████████████████████████████████████████████████████████████████████████████████████████████| 500/500 [00:13<00:00, 37.95it/s]"
     ]
    },
    {
     "name": "stdout",
     "output_type": "stream",
     "text": [
      "Task Accuracy: 99.60%\n"
     ]
    },
    {
     "name": "stderr",
     "output_type": "stream",
     "text": [
      "\n"
     ]
    }
   ],
   "source": [
    "corrects = 0\n",
    "for query in tqdm(evalset):\n",
    "    # preds = only_relevant_logits(run_model(format_query(query)), task).reshape(1, -1)\n",
    "    preds = run_model(model, tokenizer, format_query(query)).reshape(1, -1)\n",
    "    # corrects += int(query == torch.argmax(preds))\n",
    "    f = int(task[query] == torch.argmax(preds))\n",
    "    corrects += f\n",
    "    \n",
    "print(f\"Task Accuracy: {100*corrects / len(evalset):.2f}%\")"
   ]
  },
  {
   "cell_type": "code",
   "execution_count": 12,
   "id": "6895bbb5-4f01-4e9e-83d4-e1bf9f5ae72e",
   "metadata": {},
   "outputs": [
    {
     "data": {
      "text/plain": [
       "[<matplotlib.lines.Line2D at 0x1686053c0>]"
      ]
     },
     "execution_count": 12,
     "metadata": {},
     "output_type": "execute_result"
    },
    {
     "data": {
      "image/png": "[encoded data removed]",
      "text/plain": [
       "<Figure size 640x480 with 1 Axes>"
      ]
     },
     "metadata": {},
     "output_type": "display_data"
    }
   ],
   "source": [
    "plt.plot(total_loss)"
   ]
  },
  {
   "cell_type": "markdown",
   "id": "158dbc34-5f83-4dd9-8b15-f9e25cb49b07",
   "metadata": {
    "jp-MarkdownHeadingCollapsed": true,
    "tags": []
   },
   "source": [
    "## Store Task Token"
   ]
  },
  {
   "cell_type": "code",
   "execution_count": 13,
   "id": "aa13b956-9943-49ee-93cf-4e2b0f879462",
   "metadata": {},
   "outputs": [],
   "source": [
    "dir_ = Path(\"promptmanteau_tokens\")\n",
    "dir_.mkdir(parents=True, exist_ok=True)"
   ]
  },
  {
   "cell_type": "code",
   "execution_count": 14,
   "id": "3e233451-1a0b-4e47-ab29-bffaac5bde90",
   "metadata": {},
   "outputs": [],
   "source": [
    "task_token_path = dir_ / \"identity_token3.pth\"\n",
    "torch.save(model.get_input_embeddings().learned_embedding, task_token_path)"
   ]
  },
  {
   "cell_type": "markdown",
   "id": "c983763f-6826-422f-8fc5-e041ad6bfe60",
   "metadata": {
    "jp-MarkdownHeadingCollapsed": true,
    "tags": []
   },
   "source": [
    "## Analysis of Task-Tokens"
   ]
  },
  {
   "cell_type": "code",
   "execution_count": 15,
   "id": "75bf7d1a-8341-43cb-b3e5-f6ca74d5ace8",
   "metadata": {},
   "outputs": [],
   "source": [
    "token01 = torch.load(dir_ / \"identity_token1.pth\").detach()\n",
    "token02 = torch.load(dir_ / \"identity_token2.pth\").detach()\n",
    "\n",
    "token11 = torch.load(dir_ / \"add1_token1.pth\").detach()\n",
    "token12 = torch.load(dir_ / \"add1_token2.pth\").detach()\n",
    "token13 = torch.load(dir_ / \"add1_token3.pth\").detach()\n",
    "token14 = torch.load(dir_ / \"add1_token4.pth\").detach()\n",
    "\n",
    "token21 = torch.load(dir_ / \"add2_token1.pth\").detach()\n",
    "token22 = torch.load(dir_ / \"add2_token2.pth\").detach()\n",
    "token23 = torch.load(dir_ / \"add2_token3.pth\").detach()\n",
    "\n",
    "tokens = [token01, token02]"
   ]
  },
  {
   "cell_type": "code",
   "execution_count": 16,
   "id": "99f9cbec-a7f4-4183-ac77-3ee1e25cb79b",
   "metadata": {},
   "outputs": [],
   "source": [
    "def generate_random_coeffs_for_convex_sum(n):\n",
    "    nums = np.random.rand(n)\n",
    "    return nums / sum(nums)"
   ]
  },
  {
   "cell_type": "code",
   "execution_count": 17,
   "id": "2de37fe9-4220-4a7c-a080-1f36aae7a31f",
   "metadata": {},
   "outputs": [
    {
     "name": "stdout",
     "output_type": "stream",
     "text": [
      "cosine similiarity <0,1> = 0.0889\n"
     ]
    }
   ],
   "source": [
    "for i, j in itertools.combinations(range(len(tokens)), 2):\n",
    "    first_token = tokens[i]\n",
    "    second_token = tokens[j]\n",
    "    cos_sim = F.cosine_similarity(first_token, second_token).item()\n",
    "    print(f\"cosine similiarity <{i},{j}> = {cos_sim:.4f}\")"
   ]
  },
  {
   "cell_type": "code",
   "execution_count": 18,
   "id": "5e8fa499-2d84-4025-be9d-e47b6554492f",
   "metadata": {},
   "outputs": [],
   "source": [
    "def generate_text(modified_model, tokenizer, query, n_tokens, **kwargs):\n",
    "    padding = \"<|endoftext|>\" * n_tokens \n",
    "    text_to_encode = padding + query\n",
    "    encoding = tokenizer.encode(text_to_encode, return_tensors=\"pt\")\n",
    "    result = modified_model.generate(encoding, **kwargs)[0]\n",
    "    result = result[n_tokens:]\n",
    "    decoded_result = tokenizer.decode(result)\n",
    "    \n",
    "    return [decoded_result]"
   ]
  },
  {
   "cell_type": "code",
   "execution_count": 19,
   "id": "5a0508c1-0adf-4e9e-ae4b-113bd615e2db",
   "metadata": {},
   "outputs": [],
   "source": [
    "def modify_model(model, task_tokens):\n",
    "    assert hasattr(model.get_input_embeddings(), \"learned_embedding\"), \"Model had to be constructed using SoftEmbedding class\"\n",
    "    model2 = deepcopy(model)\n",
    "    model2.get_input_embeddings().learned_embedding = nn.Parameter(torch.cat(task_tokens).detach())\n",
    "    return model2"
   ]
  },
  {
   "cell_type": "code",
   "execution_count": 20,
   "id": "4b5b9b3b-4368-46b9-afd1-eb61cc439ff8",
   "metadata": {},
   "outputs": [
    {
     "name": "stdout",
     "output_type": "stream",
     "text": [
      "coeffs_list: [1, 1]\n",
      "\tinput: 122,\n",
      "\tgenerate: '122,11.'\n",
      "--------------------------------------------------------------------------------\n",
      "\tinput: 36,\n",
      "\tgenerate: '36,null.'\n",
      "--------------------------------------------------------------------------------\n",
      "\tinput: 7,\n",
      "\tgenerate: '7,7.'\n",
      "--------------------------------------------------------------------------------\n",
      "\tinput: 1,\n",
      "\tgenerate: '1,{.'\n",
      "--------------------------------------------------------------------------------\n",
      "\tinput: 2,\n",
      "\tgenerate: '2,2.'\n",
      "--------------------------------------------------------------------------------\n",
      "\tinput: 13,\n",
      "\tgenerate: '13,11.'\n",
      "--------------------------------------------------------------------------------\n"
     ]
    }
   ],
   "source": [
    "prompts = [\"122,\",\n",
    "           \"36,\",\n",
    "          \"7,\",\n",
    "          \"1,\",\n",
    "          \"2,\",\n",
    "          \"13,\",]\n",
    "\n",
    "for i in range(1):\n",
    "    coeffs = generate_random_coeffs_for_convex_sum(len(tokens))\n",
    "    coeffs = [1,1]\n",
    "    print(\"coeffs_list:\", coeffs)\n",
    "    convex_comb_token = torch.tensor(coeffs).float() @ torch.cat(tokens) # some hacks for the case of list of size 1\n",
    "    task_tokens = [convex_comb_token] # we only have one token in this analysis\n",
    "    for prompt in prompts:\n",
    "        \n",
    "        print(f\"\\tinput: {prompt}\")  \n",
    "        model2 = modify_model(model, task_tokens)\n",
    "        decoded = generate_text(model2, tokenizer, prompt, n_tokens=len(task_tokens), max_new_tokens=2, pad_token_id=tokenizer.eos_token_id)\n",
    "        for output in decoded:\n",
    "            print(f\"\\tgenerate: {repr(output)}\")\n",
    "\n",
    "        print(\"-\" * 80)  "
   ]
  },
  {
   "cell_type": "markdown",
   "id": "04ecfdf7-2bb7-4cc7-885b-9d1c81a4a986",
   "metadata": {},
   "source": [
    "### evaluation of the convex sum TASK"
   ]
  },
  {
   "cell_type": "code",
   "execution_count": 21,
   "id": "d105d313-5a08-4eab-91f7-79aae550d747",
   "metadata": {},
   "outputs": [
    {
     "name": "stderr",
     "output_type": "stream",
     "text": [
      "100%|████████████████████████████████████████████████████████████████████████████████████████████████████████████████████| 500/500 [00:13<00:00, 38.32it/s]"
     ]
    },
    {
     "name": "stdout",
     "output_type": "stream",
     "text": [
      "Task Accuracy: 94.00%\n",
      "[0.66746926 0.33253074]\n"
     ]
    },
    {
     "name": "stderr",
     "output_type": "stream",
     "text": [
      "\n"
     ]
    }
   ],
   "source": [
    "corrects = 0\n",
    "\n",
    "tokens = [token01, token02]\n",
    "coeffs = generate_random_coeffs_for_convex_sum(len(tokens))\n",
    "\n",
    "convex_comb_token = torch.tensor(coeffs).float() @ torch.cat(tokens)\n",
    "task_tokens = [convex_comb_token]\n",
    "\n",
    "model2 = modify_model(model, task_tokens)\n",
    "for query in tqdm(evalset):\n",
    "    # preds = only_relevant_logits(run_model(format_query(query)), task).reshape(1, -1)\n",
    "    preds = run_model(model2, tokenizer, format_query(query)).reshape(1, -1)\n",
    "    # corrects += int(query == torch.argmax(preds))\n",
    "    f = int(task[query] == torch.argmax(preds))\n",
    "    corrects += f\n",
    "    \n",
    "print(f\"Task Accuracy: {100*corrects / len(evalset):.2f}%\")\n",
    "print(coeffs)"
   ]
  }
 ],
 "metadata": {
  "kernelspec": {
   "display_name": "local",
   "language": "python",
   "name": "local"
  },
  "language_info": {
   "codemirror_mode": {
    "name": "ipython",
    "version": 3
   },
   "file_extension": ".py",
   "mimetype": "text/x-python",
   "name": "python",
   "nbconvert_exporter": "python",
   "pygments_lexer": "ipython3",
   "version": "3.10.9"
  }
 },
 "nbformat": 4,
 "nbformat_minor": 5
}
